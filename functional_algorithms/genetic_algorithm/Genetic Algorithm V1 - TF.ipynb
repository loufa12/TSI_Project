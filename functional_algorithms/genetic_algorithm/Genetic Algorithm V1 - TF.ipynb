{
 "cells": [
  {
   "cell_type": "markdown",
   "metadata": {},
   "source": [
    "Inspired by https://www.kaggle.com/code/ghalebdweikat/genetic-algorithm-tutorial"
   ]
  },
  {
   "cell_type": "code",
   "execution_count": 1,
   "metadata": {
    "execution": {
     "iopub.execute_input": "2023-04-06T10:55:21.548753Z",
     "iopub.status.busy": "2023-04-06T10:55:21.548232Z",
     "iopub.status.idle": "2023-04-06T10:55:21.562234Z",
     "shell.execute_reply": "2023-04-06T10:55:21.560991Z",
     "shell.execute_reply.started": "2023-04-06T10:55:21.548706Z"
    }
   },
   "outputs": [],
   "source": [
    "import numpy as np\n",
    "import pandas as pd"
   ]
  },
  {
   "cell_type": "code",
   "execution_count": 2,
   "metadata": {
    "execution": {
     "iopub.execute_input": "2023-04-06T10:55:21.770697Z",
     "iopub.status.busy": "2023-04-06T10:55:21.769923Z",
     "iopub.status.idle": "2023-04-06T10:55:21.777608Z",
     "shell.execute_reply": "2023-04-06T10:55:21.776665Z",
     "shell.execute_reply.started": "2023-04-06T10:55:21.770616Z"
    }
   },
   "outputs": [],
   "source": [
    "df_machines = pd.read_csv('tsi_data/dataset_1.csv')\n",
    "df_sites = pd.read_csv('tsi_data/scenario_1.csv')"
   ]
  },
  {
   "cell_type": "code",
   "execution_count": 3,
   "metadata": {
    "execution": {
     "iopub.execute_input": "2023-04-06T10:55:21.970390Z",
     "iopub.status.busy": "2023-04-06T10:55:21.969988Z",
     "iopub.status.idle": "2023-04-06T10:55:21.983090Z",
     "shell.execute_reply": "2023-04-06T10:55:21.981252Z",
     "shell.execute_reply.started": "2023-04-06T10:55:21.970357Z"
    },
    "scrolled": true
   },
   "outputs": [
    {
     "data": {
      "text/html": [
       "<div>\n",
       "<style scoped>\n",
       "    .dataframe tbody tr th:only-of-type {\n",
       "        vertical-align: middle;\n",
       "    }\n",
       "\n",
       "    .dataframe tbody tr th {\n",
       "        vertical-align: top;\n",
       "    }\n",
       "\n",
       "    .dataframe thead th {\n",
       "        text-align: right;\n",
       "    }\n",
       "</style>\n",
       "<table border=\"1\" class=\"dataframe\">\n",
       "  <thead>\n",
       "    <tr style=\"text-align: right;\">\n",
       "      <th></th>\n",
       "      <th>machine</th>\n",
       "      <th>inventory</th>\n",
       "      <th>time</th>\n",
       "      <th>productivity</th>\n",
       "    </tr>\n",
       "  </thead>\n",
       "  <tbody>\n",
       "    <tr>\n",
       "      <th>0</th>\n",
       "      <td>A1</td>\n",
       "      <td>1</td>\n",
       "      <td>1.0</td>\n",
       "      <td>1225</td>\n",
       "    </tr>\n",
       "    <tr>\n",
       "      <th>1</th>\n",
       "      <td>A2</td>\n",
       "      <td>1</td>\n",
       "      <td>1.5</td>\n",
       "      <td>1575</td>\n",
       "    </tr>\n",
       "    <tr>\n",
       "      <th>2</th>\n",
       "      <td>A3</td>\n",
       "      <td>1</td>\n",
       "      <td>2.5</td>\n",
       "      <td>2475</td>\n",
       "    </tr>\n",
       "    <tr>\n",
       "      <th>3</th>\n",
       "      <td>A4</td>\n",
       "      <td>1</td>\n",
       "      <td>2.5</td>\n",
       "      <td>1750</td>\n",
       "    </tr>\n",
       "    <tr>\n",
       "      <th>4</th>\n",
       "      <td>A5</td>\n",
       "      <td>1</td>\n",
       "      <td>3.0</td>\n",
       "      <td>1750</td>\n",
       "    </tr>\n",
       "    <tr>\n",
       "      <th>5</th>\n",
       "      <td>A6</td>\n",
       "      <td>1</td>\n",
       "      <td>3.5</td>\n",
       "      <td>3150</td>\n",
       "    </tr>\n",
       "    <tr>\n",
       "      <th>6</th>\n",
       "      <td>A7</td>\n",
       "      <td>1</td>\n",
       "      <td>2.5</td>\n",
       "      <td>2700</td>\n",
       "    </tr>\n",
       "    <tr>\n",
       "      <th>7</th>\n",
       "      <td>A8</td>\n",
       "      <td>1</td>\n",
       "      <td>2.5</td>\n",
       "      <td>3150</td>\n",
       "    </tr>\n",
       "    <tr>\n",
       "      <th>8</th>\n",
       "      <td>A9</td>\n",
       "      <td>1</td>\n",
       "      <td>3.5</td>\n",
       "      <td>3150</td>\n",
       "    </tr>\n",
       "    <tr>\n",
       "      <th>9</th>\n",
       "      <td>A10</td>\n",
       "      <td>1</td>\n",
       "      <td>4.0</td>\n",
       "      <td>3825</td>\n",
       "    </tr>\n",
       "    <tr>\n",
       "      <th>10</th>\n",
       "      <td>B1</td>\n",
       "      <td>1</td>\n",
       "      <td>1.5</td>\n",
       "      <td>1400</td>\n",
       "    </tr>\n",
       "    <tr>\n",
       "      <th>11</th>\n",
       "      <td>B2</td>\n",
       "      <td>1</td>\n",
       "      <td>2.5</td>\n",
       "      <td>1720</td>\n",
       "    </tr>\n",
       "    <tr>\n",
       "      <th>12</th>\n",
       "      <td>B3</td>\n",
       "      <td>1</td>\n",
       "      <td>3.5</td>\n",
       "      <td>1720</td>\n",
       "    </tr>\n",
       "    <tr>\n",
       "      <th>13</th>\n",
       "      <td>B4</td>\n",
       "      <td>1</td>\n",
       "      <td>3.5</td>\n",
       "      <td>2200</td>\n",
       "    </tr>\n",
       "    <tr>\n",
       "      <th>14</th>\n",
       "      <td>B5</td>\n",
       "      <td>1</td>\n",
       "      <td>5.0</td>\n",
       "      <td>2200</td>\n",
       "    </tr>\n",
       "    <tr>\n",
       "      <th>15</th>\n",
       "      <td>C1</td>\n",
       "      <td>1</td>\n",
       "      <td>8.0</td>\n",
       "      <td>5600</td>\n",
       "    </tr>\n",
       "    <tr>\n",
       "      <th>16</th>\n",
       "      <td>C2</td>\n",
       "      <td>1</td>\n",
       "      <td>3.0</td>\n",
       "      <td>2970</td>\n",
       "    </tr>\n",
       "    <tr>\n",
       "      <th>17</th>\n",
       "      <td>C3</td>\n",
       "      <td>1</td>\n",
       "      <td>3.5</td>\n",
       "      <td>2460</td>\n",
       "    </tr>\n",
       "    <tr>\n",
       "      <th>18</th>\n",
       "      <td>C4</td>\n",
       "      <td>1</td>\n",
       "      <td>4.5</td>\n",
       "      <td>7740</td>\n",
       "    </tr>\n",
       "    <tr>\n",
       "      <th>19</th>\n",
       "      <td>C5</td>\n",
       "      <td>1</td>\n",
       "      <td>5.0</td>\n",
       "      <td>9000</td>\n",
       "    </tr>\n",
       "    <tr>\n",
       "      <th>20</th>\n",
       "      <td>D1</td>\n",
       "      <td>1</td>\n",
       "      <td>3.0</td>\n",
       "      <td>7100</td>\n",
       "    </tr>\n",
       "    <tr>\n",
       "      <th>21</th>\n",
       "      <td>D2</td>\n",
       "      <td>1</td>\n",
       "      <td>6.0</td>\n",
       "      <td>4250</td>\n",
       "    </tr>\n",
       "    <tr>\n",
       "      <th>22</th>\n",
       "      <td>D3</td>\n",
       "      <td>1</td>\n",
       "      <td>4.0</td>\n",
       "      <td>5000</td>\n",
       "    </tr>\n",
       "    <tr>\n",
       "      <th>23</th>\n",
       "      <td>D4</td>\n",
       "      <td>1</td>\n",
       "      <td>5.5</td>\n",
       "      <td>8600</td>\n",
       "    </tr>\n",
       "  </tbody>\n",
       "</table>\n",
       "</div>"
      ],
      "text/plain": [
       "   machine  inventory  time  productivity\n",
       "0       A1          1   1.0          1225\n",
       "1       A2          1   1.5          1575\n",
       "2       A3          1   2.5          2475\n",
       "3       A4          1   2.5          1750\n",
       "4       A5          1   3.0          1750\n",
       "5       A6          1   3.5          3150\n",
       "6       A7          1   2.5          2700\n",
       "7       A8          1   2.5          3150\n",
       "8       A9          1   3.5          3150\n",
       "9      A10          1   4.0          3825\n",
       "10      B1          1   1.5          1400\n",
       "11      B2          1   2.5          1720\n",
       "12      B3          1   3.5          1720\n",
       "13      B4          1   3.5          2200\n",
       "14      B5          1   5.0          2200\n",
       "15      C1          1   8.0          5600\n",
       "16      C2          1   3.0          2970\n",
       "17      C3          1   3.5          2460\n",
       "18      C4          1   4.5          7740\n",
       "19      C5          1   5.0          9000\n",
       "20      D1          1   3.0          7100\n",
       "21      D2          1   6.0          4250\n",
       "22      D3          1   4.0          5000\n",
       "23      D4          1   5.5          8600"
      ]
     },
     "execution_count": 3,
     "metadata": {},
     "output_type": "execute_result"
    }
   ],
   "source": [
    "df_machines"
   ]
  },
  {
   "cell_type": "code",
   "execution_count": 4,
   "metadata": {},
   "outputs": [
    {
     "data": {
      "text/html": [
       "<div>\n",
       "<style scoped>\n",
       "    .dataframe tbody tr th:only-of-type {\n",
       "        vertical-align: middle;\n",
       "    }\n",
       "\n",
       "    .dataframe tbody tr th {\n",
       "        vertical-align: top;\n",
       "    }\n",
       "\n",
       "    .dataframe thead th {\n",
       "        text-align: right;\n",
       "    }\n",
       "</style>\n",
       "<table border=\"1\" class=\"dataframe\">\n",
       "  <thead>\n",
       "    <tr style=\"text-align: right;\">\n",
       "      <th></th>\n",
       "      <th>scenario</th>\n",
       "      <th>cleaning_area</th>\n",
       "      <th>cleaning_time</th>\n",
       "    </tr>\n",
       "  </thead>\n",
       "  <tbody>\n",
       "    <tr>\n",
       "      <th>0</th>\n",
       "      <td>S1</td>\n",
       "      <td>23900</td>\n",
       "      <td>7</td>\n",
       "    </tr>\n",
       "    <tr>\n",
       "      <th>1</th>\n",
       "      <td>S2</td>\n",
       "      <td>19200</td>\n",
       "      <td>4</td>\n",
       "    </tr>\n",
       "    <tr>\n",
       "      <th>2</th>\n",
       "      <td>S3</td>\n",
       "      <td>16400</td>\n",
       "      <td>6</td>\n",
       "    </tr>\n",
       "    <tr>\n",
       "      <th>3</th>\n",
       "      <td>S4</td>\n",
       "      <td>11000</td>\n",
       "      <td>6</td>\n",
       "    </tr>\n",
       "    <tr>\n",
       "      <th>4</th>\n",
       "      <td>S5</td>\n",
       "      <td>10000</td>\n",
       "      <td>3</td>\n",
       "    </tr>\n",
       "  </tbody>\n",
       "</table>\n",
       "</div>"
      ],
      "text/plain": [
       "  scenario  cleaning_area  cleaning_time\n",
       "0       S1          23900              7\n",
       "1       S2          19200              4\n",
       "2       S3          16400              6\n",
       "3       S4          11000              6\n",
       "4       S5          10000              3"
      ]
     },
     "execution_count": 4,
     "metadata": {},
     "output_type": "execute_result"
    }
   ],
   "source": [
    "df_sites"
   ]
  },
  {
   "cell_type": "markdown",
   "metadata": {},
   "source": [
    "### Representation"
   ]
  },
  {
   "cell_type": "markdown",
   "metadata": {},
   "source": [
    "We will take, for one site, the chromosome of length nb_machines, with 1 if the machine is used and 0 if it is not.\n",
    "\n",
    "Example to clean a site with A1 and A2 :\n",
    "[ 1 1 0 0 0 0 0 0 0 0 0 0 0 0 0 0 0 0 0 0 0 0 ] "
   ]
  },
  {
   "cell_type": "markdown",
   "metadata": {},
   "source": [
    "### Generating random chromosomes / solutions"
   ]
  },
  {
   "cell_type": "code",
   "execution_count": 5,
   "metadata": {},
   "outputs": [],
   "source": [
    "def generateChromosome(chromosome_size):\n",
    "    \"\"\"\n",
    "    Returns a chromosome = an array of True (machine used) and False (machine not used)\n",
    "    \"\"\"\n",
    "    return np.random.randint(2, size=chromosome_size).astype(bool) "
   ]
  },
  {
   "cell_type": "code",
   "execution_count": 6,
   "metadata": {},
   "outputs": [
    {
     "name": "stdout",
     "output_type": "stream",
     "text": [
      "[1 1 0 0 1 1 1 1 1 1]\n"
     ]
    }
   ],
   "source": [
    "# Example: Select random machines\n",
    "print(generateChromosome(10).astype(int))"
   ]
  },
  {
   "cell_type": "code",
   "execution_count": 7,
   "metadata": {},
   "outputs": [],
   "source": [
    "def generateParents(population_size, chromosome_size):\n",
    "    \"\"\"\n",
    "    Returns an array with a solution by site\n",
    "    \"\"\"\n",
    "    return [generateChromosome(chromosome_size) for _ in range(population_size)]"
   ]
  },
  {
   "cell_type": "code",
   "execution_count": 8,
   "metadata": {},
   "outputs": [
    {
     "name": "stdout",
     "output_type": "stream",
     "text": [
      "[0 0 1 1 1 0 0 0 0 0]\n",
      "[0 1 1 0 1 1 1 1 1 1]\n",
      "[0 1 0 0 1 1 1 0 1 1]\n"
     ]
    }
   ],
   "source": [
    "# Example: A population of size 3\n",
    "for x in generateParents(3, 10):\n",
    "    print(x.astype(int))"
   ]
  },
  {
   "cell_type": "markdown",
   "metadata": {},
   "source": [
    "### Getting total cleaned area for one chromosome"
   ]
  },
  {
   "cell_type": "code",
   "execution_count": 9,
   "metadata": {},
   "outputs": [],
   "source": [
    "def totalCleanedArea(chromosome, machines):\n",
    "    return machines[\"productivity\"][chromosome].sum()"
   ]
  },
  {
   "cell_type": "code",
   "execution_count": 10,
   "metadata": {},
   "outputs": [
    {
     "name": "stdout",
     "output_type": "stream",
     "text": [
      "Chromosome: [1 0 1 1 1 1 0 0 0 1 1 1 0 0 1 1 0 1 1 0 0 1 0 0]\n",
      "Total cleaned area: 39545m²\n"
     ]
    }
   ],
   "source": [
    "# Example with a random solution\n",
    "chromosome = generateChromosome(len(df_machines))\n",
    "print(\"Chromosome:\", chromosome.astype(int))\n",
    "print(\"Total cleaned area: {}m²\".format(totalCleanedArea(chromosome, df_machines)))"
   ]
  },
  {
   "cell_type": "markdown",
   "metadata": {},
   "source": [
    "### Mutations"
   ]
  },
  {
   "cell_type": "code",
   "execution_count": 11,
   "metadata": {},
   "outputs": [],
   "source": [
    "def mutate(chromosome):\n",
    "    \"\"\"\n",
    "    Mutate a random item of solution (0→1 or 1→0)\n",
    "    \"\"\"\n",
    "    rand_index = np.random.randint(len(chromosome))\n",
    "    chromosome[rand_index] = not chromosome[rand_index]\n",
    "    return chromosome"
   ]
  },
  {
   "cell_type": "code",
   "execution_count": 12,
   "metadata": {},
   "outputs": [
    {
     "name": "stdout",
     "output_type": "stream",
     "text": [
      "Chromosome: [1 0 0 0 1 0 0 1 1 1 0 1 0 1 1 1 0 1 0 1 1 1 0 1]\n",
      "Mutated:    [1 0 0 0 1 0 0 1 1 1 0 1 0 1 1 1 0 1 0 1 0 1 0 1]\n"
     ]
    }
   ],
   "source": [
    "chromosome = generateChromosome(len(df_machines))\n",
    "print(\"Chromosome:\", chromosome.astype(int))\n",
    "mutate(chromosome)\n",
    "print(\"Mutated:   \", chromosome.astype(int))"
   ]
  },
  {
   "cell_type": "markdown",
   "metadata": {},
   "source": [
    "### Update population"
   ]
  },
  {
   "cell_type": "code",
   "execution_count": 13,
   "metadata": {},
   "outputs": [],
   "source": [
    "def updatePopulation(generation, population_size, machines):\n",
    "    \"\"\"\n",
    "    Compute fitness of each chromosome and return the best ones\n",
    "    \"\"\"\n",
    "    \n",
    "    fitness = np.array([-1 * totalCleanedArea(chromosome, machines) for chromosome in generation])\n",
    "    # -1 to reorder\n",
    "    \n",
    "    return [generation[i] for i in np.argsort(fitness)][:population_size]"
   ]
  },
  {
   "cell_type": "markdown",
   "metadata": {},
   "source": [
    "### Crossover"
   ]
  },
  {
   "cell_type": "code",
   "execution_count": 14,
   "metadata": {},
   "outputs": [],
   "source": [
    "def crossover(first_chromosome, second_chromosome):\n",
    "    \"\"\"\n",
    "    Takes two parent chromosomes and returns two child chromosomes\n",
    "    The first chromosome takes half of his digits in the first parent and the other half in the second parent\n",
    "    The second chromosome takes the opposite halves.\n",
    "    \"\"\"\n",
    "    n = len(first_chromosome)\n",
    "    first_half = np.random.choice(n, round(n/2), False)\n",
    "    \n",
    "    first_child = [first_chromosome[i] if i in first_half else second_chromosome[i] for i in range(n)]\n",
    "    second_child = [second_chromosome[i] if i in first_half else first_chromosome[i] for i in range(n)]\n",
    "    return mutate(first_child), mutate(second_child)"
   ]
  },
  {
   "cell_type": "code",
   "execution_count": 15,
   "metadata": {},
   "outputs": [
    {
     "data": {
      "text/plain": [
       "([False, True, True, True], [False, True, False, True])"
      ]
     },
     "execution_count": 15,
     "metadata": {},
     "output_type": "execute_result"
    }
   ],
   "source": [
    "crossover ([False, True, False, True], [False, True, True, True])"
   ]
  },
  {
   "cell_type": "markdown",
   "metadata": {},
   "source": [
    "### New Generation"
   ]
  },
  {
   "cell_type": "code",
   "execution_count": 16,
   "metadata": {},
   "outputs": [],
   "source": [
    "def newGeneration(generation):\n",
    "    \"\"\"\n",
    "    Keep the top 2 (already sorted by fitness), and build need\n",
    "    child by crossover on all pairs of the top 4\n",
    "    \"\"\"\n",
    "    top4 = generation[:4]\n",
    "    \n",
    "    new_gen = [generation[:2]]\n",
    "    for i in range (4):\n",
    "        for j in range (4):\n",
    "            if i != j:\n",
    "                childs = crossover(top4[i], top4[j])\n",
    "                new_gen.append(childs[0])\n",
    "                new_gen.append(childs[1])\n",
    "                \n",
    "    return new_gen"
   ]
  },
  {
   "cell_type": "markdown",
   "metadata": {},
   "source": [
    "### Train"
   ]
  },
  {
   "cell_type": "code",
   "execution_count": 17,
   "metadata": {},
   "outputs": [],
   "source": [
    "def train(machines, population_size, generationsPerSite):\n",
    "    current_site = 1\n",
    "    total_cleaned = 0.0\n",
    "    while(True):\n",
    "        if(len(machines) == 0):\n",
    "            break\n",
    "        parents = generateParents(population_size, len(machines))\n",
    "        generation = updatePopulation(parents, population_size, machines)\n",
    "\n",
    "    new_generation = generation\n",
    "        for i in range(generationsPerSite):\n",
    "            new_generation = newGeneration(new_generation)\n",
    "            new_generation = updatePopulation(parents, population_size, machines)\n",
    "        total_area_to_clean = machines[\"productivity\"].sum()\n",
    "        best_child_chrom = new_generation[0]\n",
    "        \n",
    "        current_cleaned_area = totalCleanedArea(best_child_chrom, machines)\n",
    "        \n",
    "        total_cleaned += current_cleaned_area\n",
    "        machines_cleaned = str(machines[best_child_chrom]['machine'].values)\n",
    "        print(\"Site{}: {} Cleaned area: {} m²\".format(current_site, machines_cleaned, current_cleaned_area))\n",
    "        \n",
    "        machines = machines[[not x for x in best_child_chrom]]\n",
    "        current_site = current_site + 1"
   ]
  },
  {
   "cell_type": "code",
   "execution_count": 18,
   "metadata": {},
   "outputs": [
    {
     "name": "stdout",
     "output_type": "stream",
     "text": [
      "Site1: ['A1' 'A2' 'A3' 'A4' 'A7' 'A8' 'A9' 'A10' 'B1' 'B2' 'B4' 'B5' 'C2' 'C4'\n",
      " 'C5' 'D1' 'D3' 'D4'] Cleaned area: 67780 m²\n",
      "Site2: ['A5' 'A6' 'B3' 'C1' 'D2'] Cleaned area: 16470 m²\n",
      "Site3: ['C3'] Cleaned area: 2460 m²\n"
     ]
    }
   ],
   "source": [
    "population_size = 10\n",
    "generationsPerSite = 3\n",
    "machines = df_machines.copy()\n",
    "\n",
    "train(machines, population_size, generationsPerSite)"
   ]
  }
 ],
 "metadata": {
  "kernelspec": {
   "display_name": "Python 3",
   "language": "python",
   "name": "python3"
  },
  "language_info": {
   "codemirror_mode": {
    "name": "ipython",
    "version": 3
   },
   "file_extension": ".py",
   "mimetype": "text/x-python",
   "name": "python",
   "nbconvert_exporter": "python",
   "pygments_lexer": "ipython3",
   "version": "3.8.3"
  }
 },
 "nbformat": 4,
 "nbformat_minor": 4
}
