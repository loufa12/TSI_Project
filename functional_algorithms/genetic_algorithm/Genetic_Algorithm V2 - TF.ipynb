{
 "cells": [
  {
   "cell_type": "markdown",
   "metadata": {},
   "source": [
    "Inspired by https://www.kaggle.com/code/ghalebdweikat/genetic-algorithm-tutorial"
   ]
  },
  {
   "cell_type": "code",
   "execution_count": 1,
   "metadata": {
    "execution": {
     "iopub.execute_input": "2023-04-06T10:55:21.548753Z",
     "iopub.status.busy": "2023-04-06T10:55:21.548232Z",
     "iopub.status.idle": "2023-04-06T10:55:21.562234Z",
     "shell.execute_reply": "2023-04-06T10:55:21.560991Z",
     "shell.execute_reply.started": "2023-04-06T10:55:21.548706Z"
    }
   },
   "outputs": [],
   "source": [
    "import numpy as np\n",
    "import pandas as pd"
   ]
  },
  {
   "cell_type": "code",
   "execution_count": 2,
   "metadata": {
    "execution": {
     "iopub.execute_input": "2023-04-06T10:55:21.770697Z",
     "iopub.status.busy": "2023-04-06T10:55:21.769923Z",
     "iopub.status.idle": "2023-04-06T10:55:21.777608Z",
     "shell.execute_reply": "2023-04-06T10:55:21.776665Z",
     "shell.execute_reply.started": "2023-04-06T10:55:21.770616Z"
    }
   },
   "outputs": [],
   "source": [
    "df_machines = pd.read_csv('tsi_data/dataset_2.csv')\n",
    "df_sites = pd.read_csv('tsi_data/scenario_2.csv')"
   ]
  },
  {
   "cell_type": "code",
   "execution_count": 3,
   "metadata": {
    "execution": {
     "iopub.execute_input": "2023-04-06T10:55:21.970390Z",
     "iopub.status.busy": "2023-04-06T10:55:21.969988Z",
     "iopub.status.idle": "2023-04-06T10:55:21.983090Z",
     "shell.execute_reply": "2023-04-06T10:55:21.981252Z",
     "shell.execute_reply.started": "2023-04-06T10:55:21.970357Z"
    },
    "scrolled": true
   },
   "outputs": [
    {
     "data": {
      "text/html": [
       "<div>\n",
       "<style scoped>\n",
       "    .dataframe tbody tr th:only-of-type {\n",
       "        vertical-align: middle;\n",
       "    }\n",
       "\n",
       "    .dataframe tbody tr th {\n",
       "        vertical-align: top;\n",
       "    }\n",
       "\n",
       "    .dataframe thead th {\n",
       "        text-align: right;\n",
       "    }\n",
       "</style>\n",
       "<table border=\"1\" class=\"dataframe\">\n",
       "  <thead>\n",
       "    <tr style=\"text-align: right;\">\n",
       "      <th></th>\n",
       "      <th>machine</th>\n",
       "      <th>inventory</th>\n",
       "      <th>time</th>\n",
       "      <th>productivity</th>\n",
       "    </tr>\n",
       "  </thead>\n",
       "  <tbody>\n",
       "    <tr>\n",
       "      <th>0</th>\n",
       "      <td>A1</td>\n",
       "      <td>4</td>\n",
       "      <td>1.0</td>\n",
       "      <td>1225</td>\n",
       "    </tr>\n",
       "    <tr>\n",
       "      <th>1</th>\n",
       "      <td>A2</td>\n",
       "      <td>5</td>\n",
       "      <td>1.5</td>\n",
       "      <td>1575</td>\n",
       "    </tr>\n",
       "    <tr>\n",
       "      <th>2</th>\n",
       "      <td>A3</td>\n",
       "      <td>1</td>\n",
       "      <td>2.5</td>\n",
       "      <td>2475</td>\n",
       "    </tr>\n",
       "    <tr>\n",
       "      <th>3</th>\n",
       "      <td>A4</td>\n",
       "      <td>7</td>\n",
       "      <td>2.5</td>\n",
       "      <td>1750</td>\n",
       "    </tr>\n",
       "    <tr>\n",
       "      <th>4</th>\n",
       "      <td>A5</td>\n",
       "      <td>3</td>\n",
       "      <td>3.0</td>\n",
       "      <td>1750</td>\n",
       "    </tr>\n",
       "    <tr>\n",
       "      <th>5</th>\n",
       "      <td>A6</td>\n",
       "      <td>10</td>\n",
       "      <td>3.5</td>\n",
       "      <td>3150</td>\n",
       "    </tr>\n",
       "    <tr>\n",
       "      <th>6</th>\n",
       "      <td>A7</td>\n",
       "      <td>7</td>\n",
       "      <td>2.5</td>\n",
       "      <td>2700</td>\n",
       "    </tr>\n",
       "    <tr>\n",
       "      <th>7</th>\n",
       "      <td>A8</td>\n",
       "      <td>1</td>\n",
       "      <td>2.5</td>\n",
       "      <td>3150</td>\n",
       "    </tr>\n",
       "    <tr>\n",
       "      <th>8</th>\n",
       "      <td>A9</td>\n",
       "      <td>9</td>\n",
       "      <td>3.5</td>\n",
       "      <td>3150</td>\n",
       "    </tr>\n",
       "    <tr>\n",
       "      <th>9</th>\n",
       "      <td>A10</td>\n",
       "      <td>10</td>\n",
       "      <td>4.0</td>\n",
       "      <td>3825</td>\n",
       "    </tr>\n",
       "    <tr>\n",
       "      <th>10</th>\n",
       "      <td>B1</td>\n",
       "      <td>6</td>\n",
       "      <td>1.5</td>\n",
       "      <td>1400</td>\n",
       "    </tr>\n",
       "    <tr>\n",
       "      <th>11</th>\n",
       "      <td>B2</td>\n",
       "      <td>8</td>\n",
       "      <td>2.5</td>\n",
       "      <td>1720</td>\n",
       "    </tr>\n",
       "    <tr>\n",
       "      <th>12</th>\n",
       "      <td>B3</td>\n",
       "      <td>6</td>\n",
       "      <td>3.5</td>\n",
       "      <td>1720</td>\n",
       "    </tr>\n",
       "    <tr>\n",
       "      <th>13</th>\n",
       "      <td>B4</td>\n",
       "      <td>10</td>\n",
       "      <td>3.5</td>\n",
       "      <td>2200</td>\n",
       "    </tr>\n",
       "    <tr>\n",
       "      <th>14</th>\n",
       "      <td>B5</td>\n",
       "      <td>8</td>\n",
       "      <td>5.0</td>\n",
       "      <td>2200</td>\n",
       "    </tr>\n",
       "    <tr>\n",
       "      <th>15</th>\n",
       "      <td>C1</td>\n",
       "      <td>1</td>\n",
       "      <td>8.0</td>\n",
       "      <td>5600</td>\n",
       "    </tr>\n",
       "    <tr>\n",
       "      <th>16</th>\n",
       "      <td>C2</td>\n",
       "      <td>4</td>\n",
       "      <td>3.0</td>\n",
       "      <td>2970</td>\n",
       "    </tr>\n",
       "    <tr>\n",
       "      <th>17</th>\n",
       "      <td>C3</td>\n",
       "      <td>10</td>\n",
       "      <td>3.5</td>\n",
       "      <td>2460</td>\n",
       "    </tr>\n",
       "    <tr>\n",
       "      <th>18</th>\n",
       "      <td>C4</td>\n",
       "      <td>5</td>\n",
       "      <td>4.5</td>\n",
       "      <td>7740</td>\n",
       "    </tr>\n",
       "    <tr>\n",
       "      <th>19</th>\n",
       "      <td>C5</td>\n",
       "      <td>2</td>\n",
       "      <td>5.0</td>\n",
       "      <td>9000</td>\n",
       "    </tr>\n",
       "    <tr>\n",
       "      <th>20</th>\n",
       "      <td>D1</td>\n",
       "      <td>7</td>\n",
       "      <td>3.0</td>\n",
       "      <td>7100</td>\n",
       "    </tr>\n",
       "    <tr>\n",
       "      <th>21</th>\n",
       "      <td>D2</td>\n",
       "      <td>3</td>\n",
       "      <td>6.0</td>\n",
       "      <td>4250</td>\n",
       "    </tr>\n",
       "  </tbody>\n",
       "</table>\n",
       "</div>"
      ],
      "text/plain": [
       "   machine  inventory  time  productivity\n",
       "0       A1          4   1.0          1225\n",
       "1       A2          5   1.5          1575\n",
       "2       A3          1   2.5          2475\n",
       "3       A4          7   2.5          1750\n",
       "4       A5          3   3.0          1750\n",
       "5       A6         10   3.5          3150\n",
       "6       A7          7   2.5          2700\n",
       "7       A8          1   2.5          3150\n",
       "8       A9          9   3.5          3150\n",
       "9      A10         10   4.0          3825\n",
       "10      B1          6   1.5          1400\n",
       "11      B2          8   2.5          1720\n",
       "12      B3          6   3.5          1720\n",
       "13      B4         10   3.5          2200\n",
       "14      B5          8   5.0          2200\n",
       "15      C1          1   8.0          5600\n",
       "16      C2          4   3.0          2970\n",
       "17      C3         10   3.5          2460\n",
       "18      C4          5   4.5          7740\n",
       "19      C5          2   5.0          9000\n",
       "20      D1          7   3.0          7100\n",
       "21      D2          3   6.0          4250"
      ]
     },
     "execution_count": 3,
     "metadata": {},
     "output_type": "execute_result"
    }
   ],
   "source": [
    "df_machines"
   ]
  },
  {
   "cell_type": "code",
   "execution_count": 4,
   "metadata": {},
   "outputs": [
    {
     "data": {
      "text/html": [
       "<div>\n",
       "<style scoped>\n",
       "    .dataframe tbody tr th:only-of-type {\n",
       "        vertical-align: middle;\n",
       "    }\n",
       "\n",
       "    .dataframe tbody tr th {\n",
       "        vertical-align: top;\n",
       "    }\n",
       "\n",
       "    .dataframe thead th {\n",
       "        text-align: right;\n",
       "    }\n",
       "</style>\n",
       "<table border=\"1\" class=\"dataframe\">\n",
       "  <thead>\n",
       "    <tr style=\"text-align: right;\">\n",
       "      <th></th>\n",
       "      <th>site</th>\n",
       "      <th>cleaning_area</th>\n",
       "      <th>cleaning_time</th>\n",
       "    </tr>\n",
       "  </thead>\n",
       "  <tbody>\n",
       "    <tr>\n",
       "      <th>0</th>\n",
       "      <td>S1</td>\n",
       "      <td>14300</td>\n",
       "      <td>5</td>\n",
       "    </tr>\n",
       "    <tr>\n",
       "      <th>1</th>\n",
       "      <td>S2</td>\n",
       "      <td>82000</td>\n",
       "      <td>4</td>\n",
       "    </tr>\n",
       "    <tr>\n",
       "      <th>2</th>\n",
       "      <td>S3</td>\n",
       "      <td>87000</td>\n",
       "      <td>4</td>\n",
       "    </tr>\n",
       "    <tr>\n",
       "      <th>3</th>\n",
       "      <td>S4</td>\n",
       "      <td>21000</td>\n",
       "      <td>3</td>\n",
       "    </tr>\n",
       "    <tr>\n",
       "      <th>4</th>\n",
       "      <td>S5</td>\n",
       "      <td>27900</td>\n",
       "      <td>8</td>\n",
       "    </tr>\n",
       "    <tr>\n",
       "      <th>5</th>\n",
       "      <td>S6</td>\n",
       "      <td>61000</td>\n",
       "      <td>4</td>\n",
       "    </tr>\n",
       "  </tbody>\n",
       "</table>\n",
       "</div>"
      ],
      "text/plain": [
       "  site  cleaning_area  cleaning_time\n",
       "0   S1          14300              5\n",
       "1   S2          82000              4\n",
       "2   S3          87000              4\n",
       "3   S4          21000              3\n",
       "4   S5          27900              8\n",
       "5   S6          61000              4"
      ]
     },
     "execution_count": 4,
     "metadata": {},
     "output_type": "execute_result"
    }
   ],
   "source": [
    "df_sites"
   ]
  },
  {
   "cell_type": "markdown",
   "metadata": {},
   "source": [
    "### Representation"
   ]
  },
  {
   "cell_type": "markdown",
   "metadata": {},
   "source": [
    "We will take, for one site, the chromosome of length nb_machines, with 1 if the machine is used and 0 if it is not.\n",
    "\n",
    "Example to clean a site with A1 and A2 :\n",
    "[ 1 1 0 0 0 0 0 0 0 0 0 0 0 0 0 0 0 0 0 0 0 0 ] "
   ]
  },
  {
   "cell_type": "markdown",
   "metadata": {},
   "source": [
    "### Generating random chromosomes / solutions"
   ]
  },
  {
   "cell_type": "code",
   "execution_count": 5,
   "metadata": {},
   "outputs": [],
   "source": [
    "def generateChromosome(machines, max_cleaning_time):\n",
    "    \"\"\"\n",
    "    Returns a chromosome of size nb_machines, = to an array of True (machine used) and False (machine not used)\n",
    "    The only constraint is that the clean time of the machine can't be higher than allowed by the site\n",
    "    \"\"\"\n",
    "    # Get the indexes of machines with a valid cleaning time (inferior to the cleaning time required by the site)\n",
    "    allowed_machines_indexes = machines.index[machines['time'] <= max_cleaning_time].to_numpy()\n",
    "    \n",
    "    # Randomly select some machines\n",
    "    selected_machines_indexes = [idx for idx in allowed_machines_indexes if np.random.randint(0, 2)]\n",
    "    \n",
    "    # For each machine True if machine_index is in selected list, False otherwise\n",
    "    return np.isin(machines.index, selected_machines_indexes)  "
   ]
  },
  {
   "cell_type": "code",
   "execution_count": 6,
   "metadata": {},
   "outputs": [
    {
     "name": "stdout",
     "output_type": "stream",
     "text": [
      "[1 1 1 1 0 0 0 1 0 0 0 1 0 0 0 0 1 0 0 0 1 0]\n"
     ]
    }
   ],
   "source": [
    "# Example: Select random machines for a max cleaning time of 3h\n",
    "print(generateChromosome(df_machines, 3).astype(int))"
   ]
  },
  {
   "cell_type": "code",
   "execution_count": 7,
   "metadata": {},
   "outputs": [],
   "source": [
    "def generateParents(population_size, machines, max_cleaning_time):\n",
    "    \"\"\"\n",
    "    Returns an array with a solution by site\n",
    "    \"\"\"\n",
    "    return [generateChromosome(machines, max_cleaning_time) for _ in range(population_size)]"
   ]
  },
  {
   "cell_type": "code",
   "execution_count": 8,
   "metadata": {},
   "outputs": [
    {
     "name": "stdout",
     "output_type": "stream",
     "text": [
      "[1 0 0 1 0 0 1 0 0 0 1 1 0 0 0 0 0 0 0 0 0 0]\n",
      "[0 0 0 1 0 0 0 0 0 0 0 1 0 0 0 0 0 0 0 0 0 0]\n",
      "[0 0 1 1 0 0 1 1 0 0 1 1 0 0 0 0 0 0 0 0 0 0]\n"
     ]
    }
   ],
   "source": [
    "# Example: A generation of 3 chromosomes, for a max cleaning time of 2h30\n",
    "for x in generateParents(3, df_machines, 2.5):\n",
    "    print(x.astype(int))"
   ]
  },
  {
   "cell_type": "markdown",
   "metadata": {},
   "source": [
    "### Getting total cleaned area for one chromosome"
   ]
  },
  {
   "cell_type": "code",
   "execution_count": 9,
   "metadata": {},
   "outputs": [],
   "source": [
    "def totalCleanedArea(chromosome, machines):\n",
    "    return machines[\"productivity\"][chromosome].sum()"
   ]
  },
  {
   "cell_type": "code",
   "execution_count": 10,
   "metadata": {
    "scrolled": true
   },
   "outputs": [
    {
     "name": "stdout",
     "output_type": "stream",
     "text": [
      "Chromosome: [1 1 0 1 0 0 1 0 0 0 0 0 0 0 0 0 1 0 0 0 0 0]\n",
      "Total cleaned area: 10220m²\n"
     ]
    }
   ],
   "source": [
    "# Example with a random solution\n",
    "chromosome = generateChromosome(df_machines, 3)\n",
    "print(\"Chromosome:\", chromosome.astype(int))\n",
    "print(\"Total cleaned area: {}m²\".format(totalCleanedArea(chromosome, df_machines)))"
   ]
  },
  {
   "cell_type": "markdown",
   "metadata": {},
   "source": [
    "### Getting indexes of selected machines"
   ]
  },
  {
   "cell_type": "code",
   "execution_count": 11,
   "metadata": {},
   "outputs": [],
   "source": [
    "def selectedMachinesIndexes(chromosome):\n",
    "    return np.where(chromosome)[0]"
   ]
  },
  {
   "cell_type": "code",
   "execution_count": 12,
   "metadata": {},
   "outputs": [
    {
     "name": "stdout",
     "output_type": "stream",
     "text": [
      "Chromosome: [0 1 0 0 1 0 1 1 0 0 0 1 0 0 0 0 1 0 0 0 0 0]\n",
      "Indexes of machines selected: 1, 4, 6, 7, 11, 16\n"
     ]
    }
   ],
   "source": [
    "# Example with a random solution\n",
    "chromosome = generateChromosome(df_machines, 3)\n",
    "print(\"Chromosome:\", chromosome.astype(int))\n",
    "print(\"Indexes of machines selected:\", ', '.join(selectedMachinesIndexes(chromosome).astype(str)))"
   ]
  },
  {
   "cell_type": "markdown",
   "metadata": {},
   "source": [
    "### Constraint"
   ]
  },
  {
   "cell_type": "code",
   "execution_count": 13,
   "metadata": {},
   "outputs": [],
   "source": [
    "def reduceMaxCleaningTime(chromosome, machines, max_cleaning_time):\n",
    "    \"\"\"\n",
    "    Apply the constraint by removing from the chromosome the machines that have a cleaning time too high\n",
    "    \"\"\"\n",
    "    chromosome[machines[\"time\"] > max_cleaning_time] = False\n",
    "    return chromosome"
   ]
  },
  {
   "cell_type": "code",
   "execution_count": 14,
   "metadata": {},
   "outputs": [
    {
     "name": "stdout",
     "output_type": "stream",
     "text": [
      "Chromosome: [0 0 1 0 0 0 1 1 0 0 1 1 0 0 0 0 0 0 0 0 0 0]\n",
      "Modified:   [0 0 1 0 0 0 1 1 0 0 1 1 0 0 0 0 0 0 0 0 0 0]\n"
     ]
    }
   ],
   "source": [
    "chromosome = generateChromosome(df_machines, 3)\n",
    "print(\"Chromosome:\", chromosome.astype(int))\n",
    "print(\"Modified:  \", reduceMaxCleaningTime(chromosome, df_machines, 2.5).astype(int))"
   ]
  },
  {
   "cell_type": "markdown",
   "metadata": {},
   "source": [
    "### Mutations"
   ]
  },
  {
   "cell_type": "code",
   "execution_count": 15,
   "metadata": {},
   "outputs": [],
   "source": [
    "def mutate(chromosome):\n",
    "    \"\"\"\n",
    "    Mutate a random item of solution (0→1 or 1→0)\n",
    "    \"\"\"\n",
    "    rand_index = np.random.randint(len(chromosome))\n",
    "    chromosome[rand_index] = not chromosome[rand_index]\n",
    "    return chromosome"
   ]
  },
  {
   "cell_type": "code",
   "execution_count": 16,
   "metadata": {},
   "outputs": [
    {
     "name": "stdout",
     "output_type": "stream",
     "text": [
      "Chromosome: [0 0 0 1 0 0 0 0 0 0 0 1 0 0 0 0 1 0 0 0 0 0]\n",
      "Mutated:    [0 0 0 1 0 0 0 0 0 0 0 1 0 0 0 0 0 0 0 0 0 0]\n"
     ]
    }
   ],
   "source": [
    "chromosome = generateChromosome(df_machines, 3)\n",
    "print(\"Chromosome:\", chromosome.astype(int))\n",
    "mutate(chromosome)\n",
    "print(\"Mutated:   \", chromosome.astype(int))"
   ]
  },
  {
   "cell_type": "markdown",
   "metadata": {},
   "source": [
    "### Update population"
   ]
  },
  {
   "cell_type": "code",
   "execution_count": 17,
   "metadata": {},
   "outputs": [],
   "source": [
    "def updatePopulation(generation, population_size, machines, cleaning_area, max_cleaning_time):\n",
    "    \"\"\"\n",
    "    Fix chromosomes with a higher cleaning time that allowed\n",
    "    Compute fitness of each chromosome and return the best ones\n",
    "    \"\"\"\n",
    "    for chromosome in generation:\n",
    "        # Unselect machines with a higher cleaning time that allowed\n",
    "        chromosome = reduceMaxCleaningTime(chromosome, machines, max_cleaning_time)\n",
    "    \n",
    "        # Unselect machines to reduce the total cleaned size\n",
    "        while(totalCleanedArea(chromosome, machines) > cleaning_area):\n",
    "            # Unselect a random machine\n",
    "            random_selected_machine_index = np.random.choice(selectedMachinesIndexes(chromosome))\n",
    "            chromosome[random_selected_machine_index] = False\n",
    "            \n",
    "            # If we just cross the treshold, add it back and exit to clean a little bit more than needed\n",
    "            if (totalCleanedArea(chromosome, machines) <= cleaning_area):\n",
    "                chromosome[random_selected_machine_index] = True\n",
    "                break\n",
    "                \n",
    "    \n",
    "    fitness = np.array([len(selectedMachinesIndexes(chromosome)) for chromosome in generation])\n",
    "    \n",
    "    return [generation[i] for i in np.argsort(fitness)][:population_size]"
   ]
  },
  {
   "cell_type": "markdown",
   "metadata": {},
   "source": [
    "### Crossover"
   ]
  },
  {
   "cell_type": "code",
   "execution_count": 18,
   "metadata": {},
   "outputs": [],
   "source": [
    "def crossover(first_chromosome, second_chromosome):\n",
    "    \"\"\"\n",
    "    Takes two parent chromosomes and returns two child chromosomes\n",
    "    The first chromosome takes half of his digits in the first parent and the other half in the second parent\n",
    "    The second chromosome takes the opposite halves.\n",
    "    \"\"\"\n",
    "    n = len(first_chromosome)\n",
    "    first_half = np.random.choice(n, round(n/2), False)\n",
    "    \n",
    "    first_child = [first_chromosome[i] if i in first_half else second_chromosome[i] for i in range(n)]\n",
    "    second_child = [second_chromosome[i] if i in first_half else first_chromosome[i] for i in range(n)]\n",
    "    return mutate(first_child), mutate(second_child)"
   ]
  },
  {
   "cell_type": "code",
   "execution_count": 19,
   "metadata": {},
   "outputs": [
    {
     "data": {
      "text/plain": [
       "([False, False, True, True], [False, True, False, False])"
      ]
     },
     "execution_count": 19,
     "metadata": {},
     "output_type": "execute_result"
    }
   ],
   "source": [
    "crossover ([False, True, False, True], [False, True, True, True])"
   ]
  },
  {
   "cell_type": "markdown",
   "metadata": {},
   "source": [
    "### New Generation"
   ]
  },
  {
   "cell_type": "code",
   "execution_count": 20,
   "metadata": {},
   "outputs": [],
   "source": [
    "def newGeneration(generation):\n",
    "    \"\"\"\n",
    "    Keep the top 2 (already sorted by fitness), and build need\n",
    "    child by crossover on all pairs of the top 4\n",
    "    \"\"\"\n",
    "    top4 = generation[:4]\n",
    "    \n",
    "    new_gen = [generation[:2]]\n",
    "    for i in range (4):\n",
    "        for j in range (4):\n",
    "            if i != j:\n",
    "                childs = crossover(top4[i], top4[j])\n",
    "                new_gen.append(childs[0])\n",
    "                new_gen.append(childs[1])\n",
    "                \n",
    "    return new_gen"
   ]
  },
  {
   "cell_type": "markdown",
   "metadata": {},
   "source": [
    "## Optimize"
   ]
  },
  {
   "cell_type": "markdown",
   "metadata": {},
   "source": [
    "### Use Case 2"
   ]
  },
  {
   "cell_type": "code",
   "execution_count": 21,
   "metadata": {},
   "outputs": [],
   "source": [
    "df_machines = pd.read_csv('tsi_data/dataset_2.csv')"
   ]
  },
  {
   "cell_type": "markdown",
   "metadata": {},
   "source": [
    "### Flatten dataframe\n",
    "\n",
    "To facilitate the process, we will convert our dataframe to have as many rows as machine."
   ]
  },
  {
   "cell_type": "code",
   "execution_count": 22,
   "metadata": {},
   "outputs": [],
   "source": [
    "def flattenDataframe(df):\n",
    "    \"\"\"\n",
    "    Repeat the row for each machine given its inventory\n",
    "    \"\"\"\n",
    "    return df.loc[df.index.repeat(df['inventory'])].drop('inventory', axis=1).reset_index(drop=True)"
   ]
  },
  {
   "cell_type": "code",
   "execution_count": 23,
   "metadata": {},
   "outputs": [
    {
     "data": {
      "text/html": [
       "<div>\n",
       "<style scoped>\n",
       "    .dataframe tbody tr th:only-of-type {\n",
       "        vertical-align: middle;\n",
       "    }\n",
       "\n",
       "    .dataframe tbody tr th {\n",
       "        vertical-align: top;\n",
       "    }\n",
       "\n",
       "    .dataframe thead th {\n",
       "        text-align: right;\n",
       "    }\n",
       "</style>\n",
       "<table border=\"1\" class=\"dataframe\">\n",
       "  <thead>\n",
       "    <tr style=\"text-align: right;\">\n",
       "      <th></th>\n",
       "      <th>machine</th>\n",
       "      <th>time</th>\n",
       "      <th>productivity</th>\n",
       "    </tr>\n",
       "  </thead>\n",
       "  <tbody>\n",
       "    <tr>\n",
       "      <th>0</th>\n",
       "      <td>A1</td>\n",
       "      <td>1.0</td>\n",
       "      <td>1225</td>\n",
       "    </tr>\n",
       "    <tr>\n",
       "      <th>1</th>\n",
       "      <td>A1</td>\n",
       "      <td>1.0</td>\n",
       "      <td>1225</td>\n",
       "    </tr>\n",
       "    <tr>\n",
       "      <th>2</th>\n",
       "      <td>A1</td>\n",
       "      <td>1.0</td>\n",
       "      <td>1225</td>\n",
       "    </tr>\n",
       "    <tr>\n",
       "      <th>3</th>\n",
       "      <td>A1</td>\n",
       "      <td>1.0</td>\n",
       "      <td>1225</td>\n",
       "    </tr>\n",
       "    <tr>\n",
       "      <th>4</th>\n",
       "      <td>A2</td>\n",
       "      <td>1.5</td>\n",
       "      <td>1575</td>\n",
       "    </tr>\n",
       "    <tr>\n",
       "      <th>...</th>\n",
       "      <td>...</td>\n",
       "      <td>...</td>\n",
       "      <td>...</td>\n",
       "    </tr>\n",
       "    <tr>\n",
       "      <th>122</th>\n",
       "      <td>D1</td>\n",
       "      <td>3.0</td>\n",
       "      <td>7100</td>\n",
       "    </tr>\n",
       "    <tr>\n",
       "      <th>123</th>\n",
       "      <td>D1</td>\n",
       "      <td>3.0</td>\n",
       "      <td>7100</td>\n",
       "    </tr>\n",
       "    <tr>\n",
       "      <th>124</th>\n",
       "      <td>D2</td>\n",
       "      <td>6.0</td>\n",
       "      <td>4250</td>\n",
       "    </tr>\n",
       "    <tr>\n",
       "      <th>125</th>\n",
       "      <td>D2</td>\n",
       "      <td>6.0</td>\n",
       "      <td>4250</td>\n",
       "    </tr>\n",
       "    <tr>\n",
       "      <th>126</th>\n",
       "      <td>D2</td>\n",
       "      <td>6.0</td>\n",
       "      <td>4250</td>\n",
       "    </tr>\n",
       "  </tbody>\n",
       "</table>\n",
       "<p>127 rows × 3 columns</p>\n",
       "</div>"
      ],
      "text/plain": [
       "    machine  time  productivity\n",
       "0        A1   1.0          1225\n",
       "1        A1   1.0          1225\n",
       "2        A1   1.0          1225\n",
       "3        A1   1.0          1225\n",
       "4        A2   1.5          1575\n",
       "..      ...   ...           ...\n",
       "122      D1   3.0          7100\n",
       "123      D1   3.0          7100\n",
       "124      D2   6.0          4250\n",
       "125      D2   6.0          4250\n",
       "126      D2   6.0          4250\n",
       "\n",
       "[127 rows x 3 columns]"
      ]
     },
     "execution_count": 23,
     "metadata": {},
     "output_type": "execute_result"
    }
   ],
   "source": [
    "df_machines = flattenDataframe(df_machines)\n",
    "df_machines"
   ]
  },
  {
   "cell_type": "code",
   "execution_count": 24,
   "metadata": {},
   "outputs": [],
   "source": [
    "results = pd.DataFrame(columns=[\"Site\", \"Machines selected\", \"Cleaned area\", \"Area to clean\", \"Total cleaning time\", \"Allowed cleaning time\"])\n",
    "\n",
    "def optimize(machines, sites, population_size, generationsPerSite):\n",
    "    current_site_idx = 0\n",
    "    while(True):\n",
    "        if(len(machines) == 0 or current_site_idx >= len(sites)):\n",
    "            break\n",
    "        \n",
    "        current_site = sites.iloc[current_site_idx]\n",
    "        max_cleaning_time = current_site[\"cleaning_time\"]\n",
    "        cleaning_area = current_site[\"cleaning_area\"]\n",
    "    \n",
    "        parents = generateParents(population_size, machines, max_cleaning_time)\n",
    "        generation = updatePopulation(parents, population_size, machines, cleaning_area, max_cleaning_time)\n",
    "        new_generation = generation\n",
    "        for i in range(generationsPerSite):\n",
    "            new_generation = newGeneration(new_generation)\n",
    "            new_generation = updatePopulation(parents, population_size, machines, cleaning_area, max_cleaning_time)\n",
    "        \n",
    "        # Save current results in dataframe\n",
    "        best_chromosome = new_generation[0]\n",
    "        selected_machines = machines[best_chromosome]\n",
    "        selected_machines_names = selected_machines['machine'].values\n",
    "        current_cleaned_area = totalCleanedArea(best_chromosome, machines)\n",
    "        max_selected_cleaning_time = np.max(selected_machines['time'])\n",
    "        results.loc[current_site_idx] = [\n",
    "            current_site['site'], \n",
    "            str(selected_machines_names), \n",
    "            str(current_cleaned_area) + ' m²', \n",
    "            str(cleaning_area) + ' m²', \n",
    "            str(max_selected_cleaning_time) + 'h', \n",
    "            str(max_cleaning_time)  + 'h']\n",
    "        \n",
    "        # Remove selected machines\n",
    "        machines = machines[[not x for x in new_generation[0]]]\n",
    "        current_site_idx += 1\n",
    "    \n",
    "    print(\"Unused machines:\", \", \".join(machines[\"machine\"].values))\n",
    "    \n",
    "    return results"
   ]
  },
  {
   "cell_type": "code",
   "execution_count": 25,
   "metadata": {},
   "outputs": [
    {
     "name": "stdout",
     "output_type": "stream",
     "text": [
      "Unused machines: A2, A2, A2, A3, A5, A6, A6, A6, A6, A6, A6, A7, A9, A9, A10, B1, B1, B3, B3, B4, B4, B4, B4, B5, B5, B5, B5, B5, B5, B5, B5, C1, C2, C3, C3, C4, C4, C4, D2, D2\n"
     ]
    },
    {
     "data": {
      "text/html": [
       "<div>\n",
       "<style scoped>\n",
       "    .dataframe tbody tr th:only-of-type {\n",
       "        vertical-align: middle;\n",
       "    }\n",
       "\n",
       "    .dataframe tbody tr th {\n",
       "        vertical-align: top;\n",
       "    }\n",
       "\n",
       "    .dataframe thead th {\n",
       "        text-align: right;\n",
       "    }\n",
       "</style>\n",
       "<table border=\"1\" class=\"dataframe\">\n",
       "  <thead>\n",
       "    <tr style=\"text-align: right;\">\n",
       "      <th></th>\n",
       "      <th>Site</th>\n",
       "      <th>Machines selected</th>\n",
       "      <th>Cleaned area</th>\n",
       "      <th>Area to clean</th>\n",
       "      <th>Total cleaning time</th>\n",
       "      <th>Allowed cleaning time</th>\n",
       "    </tr>\n",
       "  </thead>\n",
       "  <tbody>\n",
       "    <tr>\n",
       "      <th>0</th>\n",
       "      <td>S1</td>\n",
       "      <td>['C4' 'C5']</td>\n",
       "      <td>16740 m²</td>\n",
       "      <td>14300 m²</td>\n",
       "      <td>5.0h</td>\n",
       "      <td>5h</td>\n",
       "    </tr>\n",
       "    <tr>\n",
       "      <th>1</th>\n",
       "      <td>S2</td>\n",
       "      <td>['A1' 'A1' 'A4' 'A7' 'A7' 'A7' 'A9' 'A9' 'A10'...</td>\n",
       "      <td>83830 m²</td>\n",
       "      <td>82000 m²</td>\n",
       "      <td>4.0h</td>\n",
       "      <td>4h</td>\n",
       "    </tr>\n",
       "    <tr>\n",
       "      <th>2</th>\n",
       "      <td>S3</td>\n",
       "      <td>['A2' 'A4' 'A4' 'A4' 'A5' 'A5' 'A6' 'A6' 'A8' ...</td>\n",
       "      <td>88180 m²</td>\n",
       "      <td>87000 m²</td>\n",
       "      <td>4.0h</td>\n",
       "      <td>4h</td>\n",
       "    </tr>\n",
       "    <tr>\n",
       "      <th>3</th>\n",
       "      <td>S4</td>\n",
       "      <td>['A2' 'A4' 'A4' 'A7' 'B2' 'B2' 'B2']</td>\n",
       "      <td>12935 m²</td>\n",
       "      <td>21000 m²</td>\n",
       "      <td>2.5h</td>\n",
       "      <td>3h</td>\n",
       "    </tr>\n",
       "    <tr>\n",
       "      <th>4</th>\n",
       "      <td>S5</td>\n",
       "      <td>['A6' 'A10' 'C4' 'C5' 'D2']</td>\n",
       "      <td>27965 m²</td>\n",
       "      <td>27900 m²</td>\n",
       "      <td>6.0h</td>\n",
       "      <td>8h</td>\n",
       "    </tr>\n",
       "    <tr>\n",
       "      <th>5</th>\n",
       "      <td>S6</td>\n",
       "      <td>['A1' 'A1' 'A4' 'A6' 'A7' 'A7' 'A10' 'B1' 'B1'...</td>\n",
       "      <td>38035 m²</td>\n",
       "      <td>61000 m²</td>\n",
       "      <td>4.0h</td>\n",
       "      <td>4h</td>\n",
       "    </tr>\n",
       "  </tbody>\n",
       "</table>\n",
       "</div>"
      ],
      "text/plain": [
       "  Site                                  Machines selected Cleaned area  \\\n",
       "0   S1                                        ['C4' 'C5']     16740 m²   \n",
       "1   S2  ['A1' 'A1' 'A4' 'A7' 'A7' 'A7' 'A9' 'A9' 'A10'...     83830 m²   \n",
       "2   S3  ['A2' 'A4' 'A4' 'A4' 'A5' 'A5' 'A6' 'A6' 'A8' ...     88180 m²   \n",
       "3   S4               ['A2' 'A4' 'A4' 'A7' 'B2' 'B2' 'B2']     12935 m²   \n",
       "4   S5                        ['A6' 'A10' 'C4' 'C5' 'D2']     27965 m²   \n",
       "5   S6  ['A1' 'A1' 'A4' 'A6' 'A7' 'A7' 'A10' 'B1' 'B1'...     38035 m²   \n",
       "\n",
       "  Area to clean Total cleaning time Allowed cleaning time  \n",
       "0      14300 m²                5.0h                    5h  \n",
       "1      82000 m²                4.0h                    4h  \n",
       "2      87000 m²                4.0h                    4h  \n",
       "3      21000 m²                2.5h                    3h  \n",
       "4      27900 m²                6.0h                    8h  \n",
       "5      61000 m²                4.0h                    4h  "
      ]
     },
     "execution_count": 25,
     "metadata": {},
     "output_type": "execute_result"
    }
   ],
   "source": [
    "population_size = 20\n",
    "generationsPerSite = 3\n",
    "machines = df_machines.copy()\n",
    "\n",
    "optimize(machines, df_sites, population_size, generationsPerSite)"
   ]
  },
  {
   "cell_type": "code",
   "execution_count": null,
   "metadata": {},
   "outputs": [],
   "source": []
  }
 ],
 "metadata": {
  "kernelspec": {
   "display_name": "Python 3",
   "language": "python",
   "name": "python3"
  },
  "language_info": {
   "codemirror_mode": {
    "name": "ipython",
    "version": 3
   },
   "file_extension": ".py",
   "mimetype": "text/x-python",
   "name": "python",
   "nbconvert_exporter": "python",
   "pygments_lexer": "ipython3",
   "version": "3.8.3"
  }
 },
 "nbformat": 4,
 "nbformat_minor": 4
}
