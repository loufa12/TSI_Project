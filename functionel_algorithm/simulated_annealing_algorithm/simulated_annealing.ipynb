{
 "cells": [
  {
   "cell_type": "code",
   "execution_count": 1,
   "metadata": {},
   "outputs": [],
   "source": [
    "import pandas as pd\n",
    "import numpy as np\n",
    "import random\n",
    "import math"
   ]
  },
  {
   "attachments": {},
   "cell_type": "markdown",
   "metadata": {},
   "source": [
    "## Data"
   ]
  },
  {
   "cell_type": "code",
   "execution_count": 2,
   "metadata": {},
   "outputs": [],
   "source": [
    "data_scrubber = pd.read_csv(\"/Users/macdedieu/Desktop/data_optimizer/Dataset_1.csv\", sep=';')\n",
    "data_site = pd.read_csv(\"/Users/macdedieu/Desktop/data_optimizer/scenario_1.csv\", sep=';')\n",
    "data_scrubber_2 = pd.read_csv(\"/Users/macdedieu/Desktop/data_optimizer/Dataset_2.csv\", sep=';')\n",
    "data_site_2 = pd.read_csv(\"/Users/macdedieu/Desktop/data_optimizer/scenario_2.csv\", sep=';')"
   ]
  },
  {
   "cell_type": "code",
   "execution_count": 3,
   "metadata": {},
   "outputs": [],
   "source": [
    "data_scrubber['efficiency'] = data_scrubber['productivity'] / data_scrubber['time']"
   ]
  },
  {
   "cell_type": "code",
   "execution_count": 4,
   "metadata": {},
   "outputs": [
    {
     "data": {
      "text/html": [
       "<div>\n",
       "<style scoped>\n",
       "    .dataframe tbody tr th:only-of-type {\n",
       "        vertical-align: middle;\n",
       "    }\n",
       "\n",
       "    .dataframe tbody tr th {\n",
       "        vertical-align: top;\n",
       "    }\n",
       "\n",
       "    .dataframe thead th {\n",
       "        text-align: right;\n",
       "    }\n",
       "</style>\n",
       "<table border=\"1\" class=\"dataframe\">\n",
       "  <thead>\n",
       "    <tr style=\"text-align: right;\">\n",
       "      <th></th>\n",
       "      <th>scrubber</th>\n",
       "      <th>inventory</th>\n",
       "      <th>time</th>\n",
       "      <th>productivity</th>\n",
       "      <th>efficiency</th>\n",
       "    </tr>\n",
       "  </thead>\n",
       "  <tbody>\n",
       "    <tr>\n",
       "      <th>0</th>\n",
       "      <td>A1</td>\n",
       "      <td>1</td>\n",
       "      <td>1.0</td>\n",
       "      <td>1225</td>\n",
       "      <td>1225.000000</td>\n",
       "    </tr>\n",
       "    <tr>\n",
       "      <th>1</th>\n",
       "      <td>A2</td>\n",
       "      <td>1</td>\n",
       "      <td>1.5</td>\n",
       "      <td>1575</td>\n",
       "      <td>1050.000000</td>\n",
       "    </tr>\n",
       "    <tr>\n",
       "      <th>2</th>\n",
       "      <td>A3</td>\n",
       "      <td>1</td>\n",
       "      <td>2.5</td>\n",
       "      <td>2475</td>\n",
       "      <td>990.000000</td>\n",
       "    </tr>\n",
       "    <tr>\n",
       "      <th>3</th>\n",
       "      <td>A4</td>\n",
       "      <td>1</td>\n",
       "      <td>2.5</td>\n",
       "      <td>1750</td>\n",
       "      <td>700.000000</td>\n",
       "    </tr>\n",
       "    <tr>\n",
       "      <th>4</th>\n",
       "      <td>A5</td>\n",
       "      <td>1</td>\n",
       "      <td>3.0</td>\n",
       "      <td>17500</td>\n",
       "      <td>5833.333333</td>\n",
       "    </tr>\n",
       "  </tbody>\n",
       "</table>\n",
       "</div>"
      ],
      "text/plain": [
       "  scrubber  inventory  time  productivity   efficiency\n",
       "0       A1          1   1.0          1225  1225.000000\n",
       "1       A2          1   1.5          1575  1050.000000\n",
       "2       A3          1   2.5          2475   990.000000\n",
       "3       A4          1   2.5          1750   700.000000\n",
       "4       A5          1   3.0         17500  5833.333333"
      ]
     },
     "execution_count": 4,
     "metadata": {},
     "output_type": "execute_result"
    }
   ],
   "source": [
    "data_scrubber.head()"
   ]
  },
  {
   "cell_type": "code",
   "execution_count": 5,
   "metadata": {},
   "outputs": [
    {
     "data": {
      "text/html": [
       "<div>\n",
       "<style scoped>\n",
       "    .dataframe tbody tr th:only-of-type {\n",
       "        vertical-align: middle;\n",
       "    }\n",
       "\n",
       "    .dataframe tbody tr th {\n",
       "        vertical-align: top;\n",
       "    }\n",
       "\n",
       "    .dataframe thead th {\n",
       "        text-align: right;\n",
       "    }\n",
       "</style>\n",
       "<table border=\"1\" class=\"dataframe\">\n",
       "  <thead>\n",
       "    <tr style=\"text-align: right;\">\n",
       "      <th></th>\n",
       "      <th>scenario</th>\n",
       "      <th>area</th>\n",
       "      <th>time</th>\n",
       "    </tr>\n",
       "  </thead>\n",
       "  <tbody>\n",
       "    <tr>\n",
       "      <th>0</th>\n",
       "      <td>Site 1</td>\n",
       "      <td>23900</td>\n",
       "      <td>7</td>\n",
       "    </tr>\n",
       "    <tr>\n",
       "      <th>1</th>\n",
       "      <td>Site 2</td>\n",
       "      <td>19200</td>\n",
       "      <td>4</td>\n",
       "    </tr>\n",
       "    <tr>\n",
       "      <th>2</th>\n",
       "      <td>Site 3</td>\n",
       "      <td>16400</td>\n",
       "      <td>6</td>\n",
       "    </tr>\n",
       "    <tr>\n",
       "      <th>3</th>\n",
       "      <td>Site 4</td>\n",
       "      <td>16200</td>\n",
       "      <td>6</td>\n",
       "    </tr>\n",
       "    <tr>\n",
       "      <th>4</th>\n",
       "      <td>Site 5</td>\n",
       "      <td>33000</td>\n",
       "      <td>3</td>\n",
       "    </tr>\n",
       "  </tbody>\n",
       "</table>\n",
       "</div>"
      ],
      "text/plain": [
       "  scenario   area  time\n",
       "0   Site 1  23900     7\n",
       "1   Site 2  19200     4\n",
       "2   Site 3  16400     6\n",
       "3   Site 4  16200     6\n",
       "4   Site 5  33000     3"
      ]
     },
     "execution_count": 5,
     "metadata": {},
     "output_type": "execute_result"
    }
   ],
   "source": [
    "data_site"
   ]
  },
  {
   "cell_type": "code",
   "execution_count": 6,
   "metadata": {},
   "outputs": [
    {
     "data": {
      "text/plain": [
       "True"
      ]
     },
     "execution_count": 6,
     "metadata": {},
     "output_type": "execute_result"
    }
   ],
   "source": [
    "data_scrubber['productivity'].sum() >= data_site['area'].sum()"
   ]
  },
  {
   "attachments": {},
   "cell_type": "markdown",
   "metadata": {},
   "source": [
    "## GENERATE RANDOM ASSIGNEMENT \n"
   ]
  },
  {
   "cell_type": "code",
   "execution_count": 7,
   "metadata": {},
   "outputs": [],
   "source": [
    "import random\n",
    "\n",
    "def generate_random_assignment(data_scrubber, data_site):\n",
    "    scrubber_list = data_scrubber['scrubber'].tolist()\n",
    "    site_list = data_site['scenario'].tolist()\n",
    "    assigned_scrubbers = {}\n",
    "    scrubber_num = len(scrubber_list)\n",
    "    \n",
    "    # check if there are enough scrubbers to cover all sites\n",
    "    min_scrubbers = sum(data_site['area']) // data_scrubber['productivity'].max()\n",
    "    if scrubber_num < min_scrubbers:\n",
    "        raise ValueError(f\"Not enough scrubbers available. Need at least {min_scrubbers}, but only have {scrubber_num}.\")\n",
    "    \n",
    "    random.shuffle(scrubber_list)\n",
    "    random.shuffle(site_list)\n",
    "    assignment = []\n",
    "    \n",
    "    for site_idx, site_name in enumerate(site_list):\n",
    "        scrubber_combination = []\n",
    "        total_prod = 0\n",
    "        \n",
    "        while scrubber_list:\n",
    "            scrubber_index = scrubber_list.pop(0)\n",
    "            # check if scrubber productivity exceeds site area\n",
    "            total_prod = sum(data_scrubber.loc[data_scrubber['scrubber'].isin(scrubber_combination)]['productivity'])\n",
    "            if total_prod >= data_site.loc[data_site['scenario'] == site_name]['area'].values[0]:\n",
    "                diff = total_prod - data_site.loc[data_site['scenario'] == site_name]['area'].values[0]\n",
    "                max_diff = 1000\n",
    "                if diff > max_diff:\n",
    "                    break \n",
    "\n",
    "            if data_scrubber.loc[data_scrubber['scrubber'] == scrubber_index]['inventory'].values[0] >= 1:\n",
    "                data_scrubber.loc[data_scrubber['scrubber'] == scrubber_index, 'inventory'] -= 1\n",
    "                scrubber_combination.append(scrubber_index)\n",
    "        \n",
    "        if not scrubber_combination:\n",
    "            raise ValueError(f\"Not enough scrubbers available to cover Site {site_idx+1}.\")\n",
    "            \n",
    "        assignment.append(scrubber_combination)\n",
    "    \n",
    "    return assignment, site_list\n"
   ]
  },
  {
   "cell_type": "code",
   "execution_count": 8,
   "metadata": {},
   "outputs": [
    {
     "data": {
      "text/plain": [
       "([['A9'],\n",
       "  ['D2', 'C3', 'A4', 'A8', 'A6', 'A1', 'A7'],\n",
       "  ['A10', 'B2', 'B4', 'A5'],\n",
       "  ['C1', 'A3', 'C2', 'B3', 'C4'],\n",
       "  ['D1']],\n",
       " ['Site 1', 'Site 4', 'Site 3', 'Site 2', 'Site 5'])"
      ]
     },
     "execution_count": 8,
     "metadata": {},
     "output_type": "execute_result"
    }
   ],
   "source": [
    "assignment = generate_random_assignment(data_scrubber, data_site)\n",
    "assignment"
   ]
  },
  {
   "attachments": {},
   "cell_type": "markdown",
   "metadata": {},
   "source": [
    "## SIMULATED ANNEALING "
   ]
  },
  {
   "cell_type": "code",
   "execution_count": 9,
   "metadata": {},
   "outputs": [],
   "source": [
    "import random\n",
    "import math\n",
    "\n",
    "def cost_function(assignment, data_scrubber, data_site):\n",
    "    excess = 0\n",
    "    for site_idx, scrubber_idxs in enumerate(assignment):\n",
    "        total_prod = sum(data_scrubber.loc[data_scrubber['scrubber'].isin(scrubber_idxs)]['productivity'])\n",
    "        total_time = max(data_scrubber.loc[data_scrubber['scrubber'].isin(scrubber_idxs)]['time'])\n",
    "        area = data_site.loc[data_site['scenario'] == data_site['scenario'].unique()[site_idx]]['area'].values[0]\n",
    "        excess += max(0, total_prod - area)\n",
    "    return excess, total_time"
   ]
  },
  {
   "cell_type": "code",
   "execution_count": 10,
   "metadata": {},
   "outputs": [],
   "source": [
    "def generate_new_assignment(assignment, data_scrubber, data_site):\n",
    "    scrubber_list = data_scrubber['scrubber'].tolist()\n",
    "    site_list = data_site['scenario'].tolist()\n",
    "    new_assignment = assignment.copy()\n",
    "    \n",
    "    # select two random sites\n",
    "    site1_idx, site2_idx = random.sample(range(len(site_list)), 2)\n",
    "    site1, site2 = site_list[site1_idx], site_list[site2_idx]\n",
    "    \n",
    "    # select two random scrubbers from each site\n",
    "    site1_scrubber_idxs = [i for i, s in enumerate(assignment) if site_list[i] == site1]\n",
    "    site2_scrubber_idxs = [i for i, s in enumerate(assignment) if site_list[i] == site2]\n",
    "    if len(site1_scrubber_idxs) < 2 or len(site2_scrubber_idxs) < 2:\n",
    "        # cannot swap if either site has less than 2 scrubbers assigned\n",
    "        return new_assignment\n",
    "    \n",
    "    scrubber1_idx1, scrubber1_idx2 = random.sample(site1_scrubber_idxs, 2)\n",
    "    scrubber2_idx1, scrubber2_idx2 = random.sample(site2_scrubber_idxs, 2)\n",
    "    \n",
    "    # check if the new assignment satisfies scrubber and site constraints\n",
    "    new_site1_scrubbers = [idx for idx in new_assignment[site1_idx] if idx not in [scrubber1_idx1, scrubber1_idx2]]\n",
    "    new_site2_scrubbers = [idx for idx in new_assignment[site2_idx] if idx not in [scrubber2_idx1, scrubber2_idx2]]\n",
    "\n",
    "    if data_scrubber.loc[data_scrubber['scrubber'] == scrubber1_idx1]['inventory'].values[0] >= 1 and data_scrubber.loc[data_scrubber['scrubber'] == scrubber1_idx2]['inventory'].values[0] >= 1:\n",
    "        new_site1_scrubbers.extend([scrubber1_idx1, scrubber1_idx2])\n",
    "    else:\n",
    "        # cannot assign scrubbers if inventory is not available\n",
    "        return new_assignment\n",
    "    \n",
    "    if data_scrubber.loc[data_scrubber['scrubber'] == scrubber2_idx1]['inventory'].values[0] >= 1 and data_scrubber.loc[data_scrubber['scrubber'] == scrubber2_idx2]['inventory'].values[0] >= 1:\n",
    "        new_site2_scrubbers.extend([scrubber2_idx1, scrubber2_idx2])\n",
    "    else:\n",
    "        # cannot assign scrubbers if inventory is not available\n",
    "        return new_assignment\n",
    "    \n",
    "    total_prod1 = sum(data_scrubber.loc[data_scrubber['scrubber'].isin(new_site1_scrubbers)]['productivity'])\n",
    "    total_prod2 = sum(data_scrubber.loc[data_scrubber['scrubber'].isin(new_site2_scrubbers)]['productivity'])\n",
    "    area1 = data_site.loc[data_site['scenario'] == site1]['area'].values[0]\n",
    "    area2 = data_site.loc[data_site['scenario'] == site2]['area'].values[0]\n",
    "\n",
    "    if total_prod1/area1 > 1 or total_prod2/area2 > 1:\n",
    "        # cannot assign scrubbers if productivity constraint is violated\n",
    "        return new_assignment\n",
    "\n",
    "    new_assignment[site1_idx] = new_site1_scrubbers\n",
    "    new_assignment[site2_idx] = new_site2_scrubbers\n",
    "\n",
    "    return new_assignment\n",
    "    \n"
   ]
  },
  {
   "cell_type": "code",
   "execution_count": 11,
   "metadata": {},
   "outputs": [],
   "source": [
    "def simulated_annealing(data_scrubber, data_site, T=1, alpha=0.99, stopping_T=0.000001, stopping_iter=100000):\n",
    "    # initialize with a random assignment\n",
    "    assignment = []\n",
    "    scrubber_list = data_scrubber['scrubber'].tolist()\n",
    "    site_list = data_site['scenario'].tolist()\n",
    "    for site in site_list:\n",
    "        site_scrubbers = random.sample(scrubber_list, random.randint(2, len(scrubber_list)))\n",
    "        assignment.append([scrubbers for scrubbers in site_scrubbers])\n",
    "\n",
    "    # keep track of the best assignment\n",
    "    best_assignment = assignment\n",
    "    best_cost, best_time = cost_function(assignment, data_scrubber, data_site)\n",
    "\n",
    "    # simulated annealing\n",
    "    iteration = 0\n",
    "    while T > stopping_T and iteration < stopping_iter:\n",
    "        new_assignment = generate_new_assignment(assignment, data_scrubber, data_site)\n",
    "        new_cost, new_time = cost_function(new_assignment, data_scrubber, data_site)\n",
    "        delta_cost = new_cost - best_cost\n",
    "        \n",
    "        if delta_cost < 0 or math.exp(-delta_cost/T) > random.uniform(0, 1):\n",
    "            assignment = new_assignment\n",
    "            \n",
    "            if new_cost < best_cost:\n",
    "                best_assignment = new_assignment\n",
    "                best_cost = new_cost\n",
    "                best_time = new_time\n",
    "        \n",
    "        T *= alpha\n",
    "        iteration += 1\n",
    "\n",
    "    return best_assignment, best_cost, site_list, best_time"
   ]
  },
  {
   "cell_type": "code",
   "execution_count": 12,
   "metadata": {},
   "outputs": [
    {
     "name": "stdout",
     "output_type": "stream",
     "text": [
      "     Site                                        Combination\n",
      "0  Site 1                   [C3, A9, C5, A3, B1, B2, A5, D1]\n",
      "1  Site 2  [D2, A7, B4, A1, C2, A2, C5, B3, B2, C3, A9, B...\n",
      "2  Site 3  [A6, B1, A10, A4, B3, C3, A2, A8, A7, A3, B4, ...\n",
      "3  Site 4  [B2, A4, C4, A1, C1, A8, A10, D2, B4, A2, A3, ...\n",
      "4  Site 5  [A8, B1, B4, A7, A2, C5, A6, C1, A9, A3, B2, D...\n",
      "Best Cost:  439690\n",
      "Best Time:  8.0\n"
     ]
    }
   ],
   "source": [
    "best_assignement, best_cost, site, best_time = simulated_annealing(data_scrubber, data_site)\n",
    "\n",
    "result = pd.DataFrame(\n",
    "    {'Site': site,\n",
    "     'Combination': best_assignement\n",
    "    })\n",
    "\n",
    "print(result)\n",
    "print('Best Cost: ', best_cost)\n",
    "print('Best Time: ', best_time)"
   ]
  }
 ],
 "metadata": {
  "kernelspec": {
   "display_name": "Python 3",
   "language": "python",
   "name": "python3"
  },
  "language_info": {
   "codemirror_mode": {
    "name": "ipython",
    "version": 3
   },
   "file_extension": ".py",
   "mimetype": "text/x-python",
   "name": "python",
   "nbconvert_exporter": "python",
   "pygments_lexer": "ipython3",
   "version": "3.10.9"
  },
  "orig_nbformat": 4
 },
 "nbformat": 4,
 "nbformat_minor": 2
}
